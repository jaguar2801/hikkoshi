{
 "cells": [
  {
   "cell_type": "code",
   "execution_count": 3,
   "metadata": {},
   "outputs": [],
   "source": [
    "import xgboost as xgb\n",
    "import lightgbm"
   ]
  },
  {
   "cell_type": "code",
   "execution_count": 6,
   "metadata": {},
   "outputs": [],
   "source": [
    "from sklearn.model_selection import train_test_split\n",
    "import pandas as pd"
   ]
  },
  {
   "cell_type": "code",
   "execution_count": 46,
   "metadata": {},
   "outputs": [],
   "source": [
    "data=pd.read_csv('train_data.csv')\n",
    "test=pd.read_csv('test_data.csv')\n",
    "X=data.drop(['datetime','y','close'],axis=1)\n",
    "y=data['y']\n",
    "test_data=test.drop(['datetime','close'],axis=1)"
   ]
  },
  {
   "cell_type": "code",
   "execution_count": 47,
   "metadata": {},
   "outputs": [],
   "source": [
    "X_train,X_test,y_train,y_test=train_test_split(X,y,shuffle=False)"
   ]
  },
  {
   "cell_type": "code",
   "execution_count": 57,
   "metadata": {},
   "outputs": [],
   "source": [
    "dtrain = xgb.DMatrix(X_train, label=y_train)\n",
    "dvalid = xgb.DMatrix(X_test, label=y_test)\n",
    "dtest = xgb.DMatrix(test_data)"
   ]
  },
  {
   "cell_type": "code",
   "execution_count": 58,
   "metadata": {
    "scrolled": true
   },
   "outputs": [
    {
     "name": "stdout",
     "output_type": "stream",
     "text": [
      "[13:57:44] WARNING: /opt/concourse/worker/volumes/live/7a2b9f41-3287-451b-6691-43e9a6c0910f/volume/xgboost-split_1619728204606/work/src/learner.cc:541: \n",
      "Parameters: { silent } might not be used.\n",
      "\n",
      "  This may not be accurate due to some parameters are only used in language bindings but\n",
      "  passed down to XGBoost core.  Or some parameters are not used but slip through this\n",
      "  verification. Please open an issue if you find above cases.\n",
      "\n",
      "\n",
      "[0]\ttrain-mae:12.38460\teval-mae:18.37878\n",
      "[1]\ttrain-mae:11.00855\teval-mae:16.92654\n",
      "[2]\ttrain-mae:10.54891\teval-mae:16.54074\n",
      "[3]\ttrain-mae:10.23693\teval-mae:16.22059\n",
      "[4]\ttrain-mae:10.12335\teval-mae:15.99000\n",
      "[5]\ttrain-mae:10.07609\teval-mae:15.93105\n",
      "[6]\ttrain-mae:10.04756\teval-mae:15.87304\n",
      "[7]\ttrain-mae:10.03113\teval-mae:15.77154\n",
      "[8]\ttrain-mae:10.01291\teval-mae:15.70699\n",
      "[9]\ttrain-mae:10.00197\teval-mae:15.62157\n",
      "[10]\ttrain-mae:9.98725\teval-mae:15.57683\n",
      "[11]\ttrain-mae:9.97479\teval-mae:15.49037\n",
      "[12]\ttrain-mae:9.96818\teval-mae:15.46069\n",
      "[13]\ttrain-mae:9.96362\teval-mae:15.35817\n",
      "[14]\ttrain-mae:9.95675\teval-mae:15.27304\n",
      "[15]\ttrain-mae:9.95406\teval-mae:15.19772\n",
      "[16]\ttrain-mae:9.94890\teval-mae:15.10356\n",
      "[17]\ttrain-mae:9.94221\teval-mae:15.05002\n",
      "[18]\ttrain-mae:9.93691\teval-mae:14.99196\n",
      "[19]\ttrain-mae:9.93447\teval-mae:14.98917\n",
      "[20]\ttrain-mae:9.93225\teval-mae:14.91569\n",
      "[21]\ttrain-mae:9.92973\teval-mae:14.92720\n",
      "[22]\ttrain-mae:9.92744\teval-mae:14.92096\n",
      "[23]\ttrain-mae:9.92443\teval-mae:14.92830\n",
      "[24]\ttrain-mae:9.92332\teval-mae:14.92169\n",
      "[25]\ttrain-mae:9.92163\teval-mae:14.92632\n",
      "[26]\ttrain-mae:9.92051\teval-mae:14.91920\n",
      "[27]\ttrain-mae:9.91826\teval-mae:14.91658\n",
      "[28]\ttrain-mae:9.91671\teval-mae:14.90906\n",
      "[29]\ttrain-mae:9.91506\teval-mae:14.90918\n",
      "[30]\ttrain-mae:9.91316\teval-mae:14.90012\n",
      "[31]\ttrain-mae:9.91004\teval-mae:14.89096\n",
      "[32]\ttrain-mae:9.90903\teval-mae:14.89112\n",
      "[33]\ttrain-mae:9.90633\teval-mae:14.88031\n",
      "[34]\ttrain-mae:9.90491\teval-mae:14.88177\n",
      "[35]\ttrain-mae:9.90195\teval-mae:14.87148\n",
      "[36]\ttrain-mae:9.89970\teval-mae:14.86628\n",
      "[37]\ttrain-mae:9.89911\teval-mae:14.87061\n",
      "[38]\ttrain-mae:9.89715\teval-mae:14.86037\n",
      "[39]\ttrain-mae:9.89608\teval-mae:14.79507\n",
      "[40]\ttrain-mae:9.89439\teval-mae:14.80007\n",
      "[41]\ttrain-mae:9.89220\teval-mae:14.78793\n",
      "[42]\ttrain-mae:9.89010\teval-mae:14.79435\n",
      "[43]\ttrain-mae:9.88877\teval-mae:14.78577\n",
      "[44]\ttrain-mae:9.88708\teval-mae:14.78662\n",
      "[45]\ttrain-mae:9.88485\teval-mae:14.72524\n",
      "[46]\ttrain-mae:9.88280\teval-mae:14.72135\n",
      "[47]\ttrain-mae:9.88171\teval-mae:14.71250\n",
      "[48]\ttrain-mae:9.88051\teval-mae:14.71714\n",
      "[49]\ttrain-mae:9.87822\teval-mae:14.70792\n",
      "[50]\ttrain-mae:9.87549\teval-mae:14.70745\n",
      "[51]\ttrain-mae:9.87382\teval-mae:14.69642\n",
      "[52]\ttrain-mae:9.87225\teval-mae:14.69809\n",
      "[53]\ttrain-mae:9.87021\teval-mae:14.70460\n",
      "[54]\ttrain-mae:9.86908\teval-mae:14.69988\n",
      "[55]\ttrain-mae:9.86859\teval-mae:14.69640\n",
      "[56]\ttrain-mae:9.86742\teval-mae:14.69664\n",
      "[57]\ttrain-mae:9.86539\teval-mae:14.70224\n",
      "[58]\ttrain-mae:9.86439\teval-mae:14.69750\n",
      "[59]\ttrain-mae:9.86374\teval-mae:14.69577\n",
      "[60]\ttrain-mae:9.86268\teval-mae:14.69464\n",
      "[61]\ttrain-mae:9.86085\teval-mae:14.70048\n",
      "[62]\ttrain-mae:9.86007\teval-mae:14.69639\n",
      "[63]\ttrain-mae:9.85870\teval-mae:14.69521\n",
      "[64]\ttrain-mae:9.85725\teval-mae:14.69864\n",
      "[65]\ttrain-mae:9.85664\teval-mae:14.69465\n",
      "[66]\ttrain-mae:9.85560\teval-mae:14.69945\n",
      "[67]\ttrain-mae:9.85415\teval-mae:14.70431\n",
      "[68]\ttrain-mae:9.85255\teval-mae:14.71340\n",
      "[69]\ttrain-mae:9.85051\teval-mae:14.70939\n",
      "[70]\ttrain-mae:9.84911\teval-mae:14.71640\n",
      "[71]\ttrain-mae:9.84718\teval-mae:14.71823\n",
      "[72]\ttrain-mae:9.84582\teval-mae:14.71633\n",
      "[73]\ttrain-mae:9.84438\teval-mae:14.71720\n",
      "[74]\ttrain-mae:9.84288\teval-mae:14.73244\n",
      "[75]\ttrain-mae:9.84170\teval-mae:14.74285\n",
      "[76]\ttrain-mae:9.83927\teval-mae:14.74423\n",
      "[77]\ttrain-mae:9.83801\teval-mae:14.74524\n",
      "[78]\ttrain-mae:9.83704\teval-mae:14.74321\n",
      "[79]\ttrain-mae:9.83492\teval-mae:14.73994\n"
     ]
    }
   ],
   "source": [
    "lgb_results={}\n",
    "params = {\n",
    "        'objective': 'reg:pseudohubererror','silent':1, 'random_state':1234, \n",
    "        # 学習用の指標 (RMSE)\n",
    "        'eval_metric': 'mae',\n",
    "    }\n",
    "num_round = 100\n",
    "watchlist = [(dtrain, 'train'), (dvalid, 'eval')]#訓練データはdtrain、評価用のテストデータはdvalidと設定\n",
    "model = xgb.train(params,\n",
    "                    dtrain,#訓練データ\n",
    "                    num_round,#設定した学習回数\n",
    "                    early_stopping_rounds=20,\n",
    "                    evals=watchlist,\n",
    "                  evals_result=lgb_results\n",
    "                    )"
   ]
  },
  {
   "cell_type": "code",
   "execution_count": 59,
   "metadata": {},
   "outputs": [
    {
     "name": "stdout",
     "output_type": "stream",
     "text": [
      "60\n"
     ]
    }
   ],
   "source": [
    "loss_train = lgb_results['train']['mae']  # 訓練誤差\n",
    "loss_test = lgb_results['eval']['mae']    # 汎化誤差\n",
    "best_iteration = model.best_iteration               # 最良の予測器が得られたイタレーション数\n",
    "print(best_iteration)"
   ]
  },
  {
   "cell_type": "code",
   "execution_count": 61,
   "metadata": {},
   "outputs": [],
   "source": [
    "tei=pd.DataFrame(model.predict(dtest,ntree_limit = model.best_ntree_limit))"
   ]
  },
  {
   "cell_type": "code",
   "execution_count": 64,
   "metadata": {},
   "outputs": [],
   "source": [
    "tei.to_csv('xGboost.csv',index=None)"
   ]
  },
  {
   "cell_type": "code",
   "execution_count": 56,
   "metadata": {},
   "outputs": [
    {
     "data": {
      "text/plain": [
       "<xgboost.core.DMatrix at 0x7fbb18cc2e80>"
      ]
     },
     "execution_count": 56,
     "metadata": {},
     "output_type": "execute_result"
    }
   ],
   "source": []
  },
  {
   "cell_type": "code",
   "execution_count": 54,
   "metadata": {},
   "outputs": [
    {
     "data": {
      "text/plain": [
       "(2101, 10)"
      ]
     },
     "execution_count": 54,
     "metadata": {},
     "output_type": "execute_result"
    }
   ],
   "source": [
    "X.shape"
   ]
  },
  {
   "cell_type": "code",
   "execution_count": null,
   "metadata": {},
   "outputs": [],
   "source": []
  }
 ],
 "metadata": {
  "kernelspec": {
   "display_name": "Python 3",
   "language": "python",
   "name": "python3"
  },
  "language_info": {
   "codemirror_mode": {
    "name": "ipython",
    "version": 3
   },
   "file_extension": ".py",
   "mimetype": "text/x-python",
   "name": "python",
   "nbconvert_exporter": "python",
   "pygments_lexer": "ipython3",
   "version": "3.8.5"
  }
 },
 "nbformat": 4,
 "nbformat_minor": 4
}
