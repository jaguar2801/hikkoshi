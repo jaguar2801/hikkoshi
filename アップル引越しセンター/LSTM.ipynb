{
 "cells": [
  {
   "cell_type": "code",
   "execution_count": 54,
   "metadata": {},
   "outputs": [],
   "source": [
    "import pandas as pd\n",
    "from tensorflow.keras.models import Sequential\n",
    "from tensorflow.keras.layers import Activation\n",
    "from tensorflow.keras.layers import LSTM, Dense, Dropout\n",
    "from tensorflow.keras.optimizers import Adam\n",
    "from tensorflow.keras.callbacks import EarlyStopping\n",
    "from sklearn.model_selection import train_test_split\n",
    "import tensorflow as tf"
   ]
  },
  {
   "cell_type": "code",
   "execution_count": 55,
   "metadata": {},
   "outputs": [],
   "source": [
    "df=pd.read_csv('train_data.csv')\n"
   ]
  },
  {
   "cell_type": "code",
   "execution_count": 187,
   "metadata": {
    "scrolled": true
   },
   "outputs": [
    {
     "data": {
      "text/plain": [
       "(1575, 11, 1)"
      ]
     },
     "execution_count": 187,
     "metadata": {},
     "output_type": "execute_result"
    }
   ],
   "source": [
    "X=np.array(df.drop(['y','datetime'],axis=1).values)\n",
    "y=np.array(df['y'].values)\n",
    "X=X.reshape(X.shape[0],X.shape[1],1)\n",
    "X_train,X_test,y_train,y_test=train_test_split(X,y,shuffle=False)\n",
    "X_train.shape"
   ]
  },
  {
   "cell_type": "code",
   "execution_count": 167,
   "metadata": {},
   "outputs": [],
   "source": [
    "model_save_path = './pose_test.h5'"
   ]
  },
  {
   "cell_type": "code",
   "execution_count": 206,
   "metadata": {
    "scrolled": true
   },
   "outputs": [
    {
     "name": "stdout",
     "output_type": "stream",
     "text": [
      "Model: \"sequential_66\"\n",
      "_________________________________________________________________\n",
      "Layer (type)                 Output Shape              Param #   \n",
      "=================================================================\n",
      "lstm_135 (LSTM)              (None, 64)                16896     \n",
      "_________________________________________________________________\n",
      "dense_133 (Dense)            (None, 1)                 65        \n",
      "=================================================================\n",
      "Total params: 16,961\n",
      "Trainable params: 16,961\n",
      "Non-trainable params: 0\n",
      "_________________________________________________________________\n"
     ]
    }
   ],
   "source": [
    "length_of_sequence = X_train.shape[1] \n",
    "in_out_neurons = X_train.shape[0]\n",
    "n_hidden = 5\n",
    "\n",
    "model = Sequential()\n",
    "model.add(LSTM(64, return_sequences=False, activation='relu', input_shape= (11,1)))\n",
    "model.add(Dense(1))\n",
    "\n",
    "model.summary()\n",
    "#model.weights"
   ]
  },
  {
   "cell_type": "code",
   "execution_count": 207,
   "metadata": {},
   "outputs": [],
   "source": [
    "# モデルチェックポイントのコールバック\n",
    "cp_callback = tf.keras.callbacks.ModelCheckpoint(\n",
    "    model_save_path, verbose=1, save_weights_only=False)\n",
    "# 早期打ち切り用コールバック\n",
    "es_callback = tf.keras.callbacks.EarlyStopping(patience=20, verbose=1)"
   ]
  },
  {
   "cell_type": "code",
   "execution_count": 208,
   "metadata": {},
   "outputs": [],
   "source": [
    "# モデルコンパイル\n",
    "model.compile(\n",
    "    optimizer='adam',\n",
    "    loss='categorical_crossentropy',\n",
    "    metrics=['categorical_accuracy']\n",
    ")"
   ]
  },
  {
   "cell_type": "code",
   "execution_count": 209,
   "metadata": {
    "scrolled": true
   },
   "outputs": [
    {
     "name": "stdout",
     "output_type": "stream",
     "text": [
      "Epoch 1/5\n",
      "11/13 [========================>.....] - ETA: 0s - loss: 3.6169e-06 - categorical_accuracy: 1.0000\n",
      "Epoch 00001: saving model to ./pose_test.h5\n",
      "13/13 [==============================] - 1s 48ms/step - loss: 3.6078e-06 - categorical_accuracy: 1.0000 - val_loss: 5.4324e-06 - val_categorical_accuracy: 1.0000\n",
      "Epoch 2/5\n",
      "10/13 [======================>.......] - ETA: 0s - loss: 3.6011e-06 - categorical_accuracy: 1.0000\n",
      "Epoch 00002: saving model to ./pose_test.h5\n",
      "13/13 [==============================] - 0s 22ms/step - loss: 3.6078e-06 - categorical_accuracy: 1.0000 - val_loss: 5.4324e-06 - val_categorical_accuracy: 1.0000\n",
      "Epoch 3/5\n",
      "10/13 [======================>.......] - ETA: 0s - loss: 3.5879e-06 - categorical_accuracy: 1.0000\n",
      "Epoch 00003: saving model to ./pose_test.h5\n",
      "13/13 [==============================] - 0s 22ms/step - loss: 3.6078e-06 - categorical_accuracy: 1.0000 - val_loss: 5.4324e-06 - val_categorical_accuracy: 1.0000\n",
      "Epoch 4/5\n",
      "13/13 [==============================] - ETA: 0s - loss: 3.6078e-06 - categorical_accuracy: 1.0000\n",
      "Epoch 00004: saving model to ./pose_test.h5\n",
      "13/13 [==============================] - 0s 23ms/step - loss: 3.6078e-06 - categorical_accuracy: 1.0000 - val_loss: 5.4324e-06 - val_categorical_accuracy: 1.0000\n",
      "Epoch 5/5\n",
      "13/13 [==============================] - ETA: 0s - loss: 3.6078e-06 - categorical_accuracy: 1.0000\n",
      "Epoch 00005: saving model to ./pose_test.h5\n",
      "13/13 [==============================] - 0s 24ms/step - loss: 3.6078e-06 - categorical_accuracy: 1.0000 - val_loss: 5.4324e-06 - val_categorical_accuracy: 1.0000\n"
     ]
    },
    {
     "data": {
      "text/plain": [
       "<tensorflow.python.keras.callbacks.History at 0x7fb4db6dbbb0>"
      ]
     },
     "execution_count": 209,
     "metadata": {},
     "output_type": "execute_result"
    }
   ],
   "source": [
    "early_stopping = EarlyStopping(monitor='val_loss', mode='auto', patience=20)\n",
    "# 学習\n",
    "model.fit(\n",
    "    X_train,\n",
    "    y_train,\n",
    "    epochs=5,\n",
    "    batch_size=128,\n",
    "    validation_data=(X_test, y_test),\n",
    "    callbacks=[cp_callback, es_callback]\n",
    ")"
   ]
  },
  {
   "cell_type": "code",
   "execution_count": 210,
   "metadata": {},
   "outputs": [
    {
     "data": {
      "text/plain": [
       "2423.3310963933995"
      ]
     },
     "execution_count": 210,
     "metadata": {},
     "output_type": "execute_result"
    }
   ],
   "source": [
    "model.load_weights('./pose_test.h5')\n",
    "# 評価\n",
    "from sklearn.metrics import multilabel_confusion_matrix, accuracy_score\n",
    "from sklearn.metrics import mean_squared_error\n",
    "y_pred = model.predict(X_test)\n",
    "\n",
    "\n",
    "\n",
    "loss=mean_squared_error(y_pred,y_test)\n",
    "loss"
   ]
  },
  {
   "cell_type": "code",
   "execution_count": 159,
   "metadata": {},
   "outputs": [],
   "source": [
    "import numpy as np\n",
    "x = np.array([[10,20,30], [20,30,40], [30, 40, 50], [40, 50, 60]])\n",
    "y = np.array([[40, 50], [50, 60], [60, 70], [70, 80]])\n",
    " \n",
    "# 行列のフォーマット変更。\n",
    "# LSTMは、入力フォーマットを[サンプルの数, 入力のステップ数(この場合は3), features]とする必要があるためです。\n",
    "x = x.reshape((x.shape[0], x.shape[1], 1))\n",
    "y = y.reshape((y.shape[0], y.shape[1], 1))"
   ]
  },
  {
   "cell_type": "code",
   "execution_count": 161,
   "metadata": {},
   "outputs": [
    {
     "data": {
      "text/plain": [
       "(4, 3, 1)"
      ]
     },
     "execution_count": 161,
     "metadata": {},
     "output_type": "execute_result"
    }
   ],
   "source": [
    "x.shape"
   ]
  },
  {
   "cell_type": "code",
   "execution_count": null,
   "metadata": {},
   "outputs": [],
   "source": []
  }
 ],
 "metadata": {
  "kernelspec": {
   "display_name": "Python 3",
   "language": "python",
   "name": "python3"
  },
  "language_info": {
   "codemirror_mode": {
    "name": "ipython",
    "version": 3
   },
   "file_extension": ".py",
   "mimetype": "text/x-python",
   "name": "python",
   "nbconvert_exporter": "python",
   "pygments_lexer": "ipython3",
   "version": "3.8.5"
  }
 },
 "nbformat": 4,
 "nbformat_minor": 4
}
