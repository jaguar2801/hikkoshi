{
 "cells": [
  {
   "cell_type": "code",
   "execution_count": 78,
   "metadata": {},
   "outputs": [],
   "source": [
    "import pandas as pd\n",
    "from tensorflow.keras.models import Sequential\n",
    "from tensorflow.keras.layers import Activation\n",
    "from tensorflow.keras.layers import LSTM, Dense, Dropout\n",
    "from tensorflow.keras.optimizers import Adam\n",
    "from tensorflow.keras.callbacks import EarlyStopping\n",
    "from sklearn.model_selection import train_test_split\n",
    "import tensorflow as tf\n",
    "import numpy as np"
   ]
  },
  {
   "cell_type": "code",
   "execution_count": 79,
   "metadata": {},
   "outputs": [],
   "source": [
    "df=pd.read_csv('train_data.csv')\n"
   ]
  },
  {
   "cell_type": "code",
   "execution_count": 136,
   "metadata": {
    "scrolled": true
   },
   "outputs": [],
   "source": [
    "X=np.array(df.drop(['y','datetime'],axis=1).values)\n",
    "y=np.array(df['y'].values)\n",
    "X=X.reshape(X.shape[0],X.shape[1],1)\n",
    "X_train,X_test,y_train,y_test=train_test_split(X,y,shuffle=False)\n",
    "#X_train"
   ]
  },
  {
   "cell_type": "code",
   "execution_count": 82,
   "metadata": {},
   "outputs": [],
   "source": [
    "model_save_path = './pose_test.h5'"
   ]
  },
  {
   "cell_type": "code",
   "execution_count": 170,
   "metadata": {
    "scrolled": false
   },
   "outputs": [
    {
     "name": "stdout",
     "output_type": "stream",
     "text": [
      "Model: \"sequential_36\"\n",
      "_________________________________________________________________\n",
      "Layer (type)                 Output Shape              Param #   \n",
      "=================================================================\n",
      "lstm_72 (LSTM)               (None, 11, 64)            16896     \n",
      "_________________________________________________________________\n",
      "dropout_54 (Dropout)         (None, 11, 64)            0         \n",
      "_________________________________________________________________\n",
      "lstm_73 (LSTM)               (None, 11, 128)           98816     \n",
      "_________________________________________________________________\n",
      "dropout_55 (Dropout)         (None, 11, 128)           0         \n",
      "_________________________________________________________________\n",
      "lstm_74 (LSTM)               (None, 64)                49408     \n",
      "_________________________________________________________________\n",
      "dropout_56 (Dropout)         (None, 64)                0         \n",
      "_________________________________________________________________\n",
      "dense_27 (Dense)             (None, 64)                4160      \n",
      "_________________________________________________________________\n",
      "dense_28 (Dense)             (None, 32)                2080      \n",
      "_________________________________________________________________\n",
      "dense_29 (Dense)             (None, 1)                 33        \n",
      "=================================================================\n",
      "Total params: 171,393\n",
      "Trainable params: 171,393\n",
      "Non-trainable params: 0\n",
      "_________________________________________________________________\n"
     ]
    }
   ],
   "source": [
    "length_of_sequence = X_train.shape[1] \n",
    "in_out_neurons = X_train.shape[0]\n",
    "n_hidden = 5\n",
    "\n",
    "model = Sequential()\n",
    "model.add(LSTM(64, return_sequences=True,activation='relu', input_shape= (X_train.shape[1],X_train.shape[2])))\n",
    "model.add(Dropout(0.2))\n",
    "model.add(LSTM(128,return_sequences=True,activation='relu'))\n",
    "model.add(Dropout(0.5))\n",
    "model.add(LSTM(64, activation='relu'))\n",
    "model.add(Dropout(0.2))\n",
    "model.add(Dense(64, activation='relu'))\n",
    "model.add(Dense(32, activation='relu'))\n",
    "model.add(Dense(1,activation='linear'))\n",
    "\n",
    "model.summary()\n",
    "#model.weights"
   ]
  },
  {
   "cell_type": "code",
   "execution_count": 171,
   "metadata": {},
   "outputs": [],
   "source": [
    "# モデルチェックポイントのコールバック\n",
    "cp_callback = tf.keras.callbacks.ModelCheckpoint(\n",
    "    model_save_path, verbose=1, save_weights_only=False)\n",
    "# 早期打ち切り用コールバック\n",
    "es_callback = tf.keras.callbacks.EarlyStopping(patience=20, verbose=1)"
   ]
  },
  {
   "cell_type": "code",
   "execution_count": 172,
   "metadata": {},
   "outputs": [],
   "source": [
    "# モデルコンパイル\n",
    "model.compile(\n",
    "    optimizer='adam',\n",
    "    loss='mean_absolute_error',\n",
    "    metrics=['mae']\n",
    ")"
   ]
  },
  {
   "cell_type": "code",
   "execution_count": 173,
   "metadata": {
    "scrolled": true
   },
   "outputs": [
    {
     "name": "stdout",
     "output_type": "stream",
     "text": [
      "Epoch 1/30\n",
      "12/13 [==========================>...] - ETA: 0s - loss: 30.0965 - mae: 30.0965\n",
      "Epoch 00001: saving model to ./pose_test.h5\n",
      "13/13 [==============================] - 2s 187ms/step - loss: 30.1155 - mae: 30.1155 - val_loss: 44.8934 - val_mae: 44.8934\n",
      "Epoch 2/30\n",
      "12/13 [==========================>...] - ETA: 0s - loss: 24.6710 - mae: 24.6710\n",
      "Epoch 00002: saving model to ./pose_test.h5\n",
      "13/13 [==============================] - 1s 93ms/step - loss: 24.6443 - mae: 24.6443 - val_loss: 21.5217 - val_mae: 21.5217\n",
      "Epoch 3/30\n",
      "13/13 [==============================] - ETA: 0s - loss: 13.0156 - mae: 13.0156\n",
      "Epoch 00003: saving model to ./pose_test.h5\n",
      "13/13 [==============================] - 1s 108ms/step - loss: 13.0156 - mae: 13.0156 - val_loss: 21.8045 - val_mae: 21.8045\n",
      "Epoch 4/30\n",
      "12/13 [==========================>...] - ETA: 0s - loss: 11.4761 - mae: 11.4761\n",
      "Epoch 00004: saving model to ./pose_test.h5\n",
      "13/13 [==============================] - 2s 130ms/step - loss: 11.4757 - mae: 11.4757 - val_loss: 20.5364 - val_mae: 20.5364\n",
      "Epoch 5/30\n",
      "13/13 [==============================] - ETA: 0s - loss: 11.3501 - mae: 11.3501\n",
      "Epoch 00005: saving model to ./pose_test.h5\n",
      "13/13 [==============================] - 2s 190ms/step - loss: 11.3501 - mae: 11.3501 - val_loss: 17.4260 - val_mae: 17.4260\n",
      "Epoch 6/30\n",
      "13/13 [==============================] - ETA: 0s - loss: 10.8962 - mae: 10.8962\n",
      "Epoch 00006: saving model to ./pose_test.h5\n",
      "13/13 [==============================] - 2s 152ms/step - loss: 10.8962 - mae: 10.8962 - val_loss: 16.3511 - val_mae: 16.3511\n",
      "Epoch 7/30\n",
      "13/13 [==============================] - ETA: 0s - loss: 10.7271 - mae: 10.7271\n",
      "Epoch 00007: saving model to ./pose_test.h5\n",
      "13/13 [==============================] - 2s 140ms/step - loss: 10.7271 - mae: 10.7271 - val_loss: 17.5871 - val_mae: 17.5871\n",
      "Epoch 8/30\n",
      "12/13 [==========================>...] - ETA: 0s - loss: 10.8326 - mae: 10.8326\n",
      "Epoch 00008: saving model to ./pose_test.h5\n",
      "13/13 [==============================] - 2s 121ms/step - loss: 10.8707 - mae: 10.8707 - val_loss: 14.2049 - val_mae: 14.2049\n",
      "Epoch 9/30\n",
      "13/13 [==============================] - ETA: 0s - loss: 11.0088 - mae: 11.0088\n",
      "Epoch 00009: saving model to ./pose_test.h5\n",
      "13/13 [==============================] - 2s 132ms/step - loss: 11.0088 - mae: 11.0088 - val_loss: 16.7599 - val_mae: 16.7599\n",
      "Epoch 10/30\n",
      "13/13 [==============================] - ETA: 0s - loss: 11.3712 - mae: 11.3712\n",
      "Epoch 00010: saving model to ./pose_test.h5\n",
      "13/13 [==============================] - 2s 132ms/step - loss: 11.3712 - mae: 11.3712 - val_loss: 19.7455 - val_mae: 19.7455\n",
      "Epoch 11/30\n",
      "13/13 [==============================] - ETA: 0s - loss: 10.9661 - mae: 10.9661\n",
      "Epoch 00011: saving model to ./pose_test.h5\n",
      "13/13 [==============================] - 2s 126ms/step - loss: 10.9661 - mae: 10.9661 - val_loss: 17.2506 - val_mae: 17.2506\n",
      "Epoch 12/30\n",
      "13/13 [==============================] - ETA: 0s - loss: 10.7105 - mae: 10.7105\n",
      "Epoch 00012: saving model to ./pose_test.h5\n",
      "13/13 [==============================] - 2s 127ms/step - loss: 10.7105 - mae: 10.7105 - val_loss: 15.5739 - val_mae: 15.5739\n",
      "Epoch 13/30\n",
      "13/13 [==============================] - ETA: 0s - loss: 10.6764 - mae: 10.6764\n",
      "Epoch 00013: saving model to ./pose_test.h5\n",
      "13/13 [==============================] - 2s 130ms/step - loss: 10.6764 - mae: 10.6764 - val_loss: 15.6138 - val_mae: 15.6138\n",
      "Epoch 14/30\n",
      "12/13 [==========================>...] - ETA: 0s - loss: 10.6317 - mae: 10.6317\n",
      "Epoch 00014: saving model to ./pose_test.h5\n",
      "13/13 [==============================] - 2s 119ms/step - loss: 10.5870 - mae: 10.5870 - val_loss: 12.8108 - val_mae: 12.8108\n",
      "Epoch 15/30\n",
      "12/13 [==========================>...] - ETA: 0s - loss: 10.6837 - mae: 10.6837\n",
      "Epoch 00015: saving model to ./pose_test.h5\n",
      "13/13 [==============================] - 1s 107ms/step - loss: 10.6984 - mae: 10.6984 - val_loss: 15.8156 - val_mae: 15.8156\n",
      "Epoch 16/30\n",
      "13/13 [==============================] - ETA: 0s - loss: 10.7975 - mae: 10.7975\n",
      "Epoch 00016: saving model to ./pose_test.h5\n",
      "13/13 [==============================] - 1s 110ms/step - loss: 10.7975 - mae: 10.7975 - val_loss: 15.9889 - val_mae: 15.9889\n",
      "Epoch 17/30\n",
      "13/13 [==============================] - ETA: 0s - loss: 10.5904 - mae: 10.5904\n",
      "Epoch 00017: saving model to ./pose_test.h5\n",
      "13/13 [==============================] - 1s 103ms/step - loss: 10.5904 - mae: 10.5904 - val_loss: 15.6999 - val_mae: 15.6999\n",
      "Epoch 18/30\n",
      "13/13 [==============================] - ETA: 0s - loss: 10.5338 - mae: 10.5338\n",
      "Epoch 00018: saving model to ./pose_test.h5\n",
      "13/13 [==============================] - 2s 121ms/step - loss: 10.5338 - mae: 10.5338 - val_loss: 14.1185 - val_mae: 14.1185\n",
      "Epoch 19/30\n",
      "13/13 [==============================] - ETA: 0s - loss: 10.4714 - mae: 10.4714\n",
      "Epoch 00019: saving model to ./pose_test.h5\n",
      "13/13 [==============================] - 2s 124ms/step - loss: 10.4714 - mae: 10.4714 - val_loss: 15.6724 - val_mae: 15.6724\n",
      "Epoch 20/30\n",
      "12/13 [==========================>...] - ETA: 0s - loss: 10.5648 - mae: 10.5648\n",
      "Epoch 00020: saving model to ./pose_test.h5\n",
      "13/13 [==============================] - 1s 108ms/step - loss: 10.5988 - mae: 10.5988 - val_loss: 15.7871 - val_mae: 15.7871\n",
      "Epoch 21/30\n",
      "13/13 [==============================] - ETA: 0s - loss: 10.6360 - mae: 10.6360\n",
      "Epoch 00021: saving model to ./pose_test.h5\n",
      "13/13 [==============================] - 1s 112ms/step - loss: 10.6360 - mae: 10.6360 - val_loss: 14.2338 - val_mae: 14.2338\n",
      "Epoch 22/30\n",
      "12/13 [==========================>...] - ETA: 0s - loss: 10.4060 - mae: 10.4060\n",
      "Epoch 00022: saving model to ./pose_test.h5\n",
      "13/13 [==============================] - 1s 106ms/step - loss: 10.4161 - mae: 10.4161 - val_loss: 14.8573 - val_mae: 14.8573\n",
      "Epoch 23/30\n",
      "13/13 [==============================] - ETA: 0s - loss: 10.5206 - mae: 10.5206\n",
      "Epoch 00023: saving model to ./pose_test.h5\n",
      "13/13 [==============================] - 2s 119ms/step - loss: 10.5206 - mae: 10.5206 - val_loss: 16.4676 - val_mae: 16.4676\n",
      "Epoch 24/30\n",
      "13/13 [==============================] - ETA: 0s - loss: 10.4459 - mae: 10.4459\n",
      "Epoch 00024: saving model to ./pose_test.h5\n",
      "13/13 [==============================] - 2s 118ms/step - loss: 10.4459 - mae: 10.4459 - val_loss: 13.1368 - val_mae: 13.1368\n",
      "Epoch 25/30\n",
      "12/13 [==========================>...] - ETA: 0s - loss: 10.5547 - mae: 10.5547\n",
      "Epoch 00025: saving model to ./pose_test.h5\n",
      "13/13 [==============================] - 1s 114ms/step - loss: 10.5440 - mae: 10.5440 - val_loss: 13.9519 - val_mae: 13.9519\n",
      "Epoch 26/30\n",
      "12/13 [==========================>...] - ETA: 0s - loss: 10.4796 - mae: 10.4796\n",
      "Epoch 00026: saving model to ./pose_test.h5\n",
      "13/13 [==============================] - 2s 127ms/step - loss: 10.4538 - mae: 10.4538 - val_loss: 14.4021 - val_mae: 14.4021\n",
      "Epoch 27/30\n",
      "13/13 [==============================] - ETA: 0s - loss: 10.4240 - mae: 10.4240\n",
      "Epoch 00027: saving model to ./pose_test.h5\n",
      "13/13 [==============================] - 2s 123ms/step - loss: 10.4240 - mae: 10.4240 - val_loss: 15.3530 - val_mae: 15.3530\n",
      "Epoch 28/30\n",
      "13/13 [==============================] - ETA: 0s - loss: 10.5284 - mae: 10.5284\n",
      "Epoch 00028: saving model to ./pose_test.h5\n",
      "13/13 [==============================] - 1s 112ms/step - loss: 10.5284 - mae: 10.5284 - val_loss: 16.1813 - val_mae: 16.1813\n",
      "Epoch 29/30\n",
      "13/13 [==============================] - ETA: 0s - loss: 10.5121 - mae: 10.5121\n",
      "Epoch 00029: saving model to ./pose_test.h5\n",
      "13/13 [==============================] - 1s 104ms/step - loss: 10.5121 - mae: 10.5121 - val_loss: 16.5877 - val_mae: 16.5877\n",
      "Epoch 30/30\n",
      "13/13 [==============================] - ETA: 0s - loss: 10.5493 - mae: 10.5493\n",
      "Epoch 00030: saving model to ./pose_test.h5\n",
      "13/13 [==============================] - 2s 125ms/step - loss: 10.5493 - mae: 10.5493 - val_loss: 16.5135 - val_mae: 16.5135\n"
     ]
    },
    {
     "data": {
      "text/plain": [
       "<tensorflow.python.keras.callbacks.History at 0x7fbf3c1df460>"
      ]
     },
     "execution_count": 173,
     "metadata": {},
     "output_type": "execute_result"
    }
   ],
   "source": [
    "early_stopping = EarlyStopping(monitor='val_loss', mode='auto', patience=20)\n",
    "# 学習\n",
    "model.fit(\n",
    "    X_train,\n",
    "    y_train,\n",
    "    epochs=30,\n",
    "    batch_size=128,\n",
    "    validation_data=(X_test, y_test),\n",
    "    callbacks=[cp_callback, es_callback]\n",
    ")"
   ]
  },
  {
   "cell_type": "code",
   "execution_count": 174,
   "metadata": {},
   "outputs": [
    {
     "data": {
      "text/plain": [
       "16.513472259724548"
      ]
     },
     "execution_count": 174,
     "metadata": {},
     "output_type": "execute_result"
    }
   ],
   "source": [
    "model.load_weights('./pose_test.h5')\n",
    "# 評価\n",
    "#from sklearn.metrics import multilabel_confusion_matrix, accuracy_score\n",
    "from sklearn.metrics import mean_absolute_error\n",
    "y_pred = model.predict(X_test)\n",
    "\n",
    "\n",
    "loss=mean_absolute_error(y_pred,y_test)\n",
    "loss\n"
   ]
  },
  {
   "cell_type": "code",
   "execution_count": 64,
   "metadata": {},
   "outputs": [],
   "source": [
    "test_=pd.read_csv('test_data.csv')"
   ]
  },
  {
   "cell_type": "code",
   "execution_count": 65,
   "metadata": {},
   "outputs": [],
   "source": [
    "test=np.array(test_.drop('datetime',axis=1))\n",
    "test=X_test.reshape(test.shape[0],X_test.shape[1],1)"
   ]
  },
  {
   "cell_type": "code",
   "execution_count": 66,
   "metadata": {},
   "outputs": [],
   "source": [
    "y_test=model.predict(test)"
   ]
  },
  {
   "cell_type": "code",
   "execution_count": 73,
   "metadata": {},
   "outputs": [],
   "source": [
    "csv=pd.DataFrame(list(y_test[:,0]),test_['datetime'])\n",
    "csv.to_csv('提出csv/LSTM.csv')"
   ]
  },
  {
   "cell_type": "code",
   "execution_count": 72,
   "metadata": {},
   "outputs": [
    {
     "name": "stdout",
     "output_type": "stream",
     "text": [
      "LSTM.ipynb                    train_data.csv\r\n",
      "SVR.ipynb                     xGboostに突っ込む.ipynb\r\n",
      "pose_test.h5                  \u001b[34m提出csv\u001b[m\u001b[m/\r\n",
      "sample_submit.csv             前処理.ipynb\r\n",
      "test.csv                      特徴量抽出.ipynb\r\n",
      "test_data.csv                 データ可視化.ipynb\r\n",
      "train.csv\r\n"
     ]
    }
   ],
   "source": [
    "ls"
   ]
  },
  {
   "cell_type": "code",
   "execution_count": null,
   "metadata": {},
   "outputs": [],
   "source": []
  }
 ],
 "metadata": {
  "kernelspec": {
   "display_name": "Python 3",
   "language": "python",
   "name": "python3"
  },
  "language_info": {
   "codemirror_mode": {
    "name": "ipython",
    "version": 3
   },
   "file_extension": ".py",
   "mimetype": "text/x-python",
   "name": "python",
   "nbconvert_exporter": "python",
   "pygments_lexer": "ipython3",
   "version": "3.8.5"
  }
 },
 "nbformat": 4,
 "nbformat_minor": 4
}
