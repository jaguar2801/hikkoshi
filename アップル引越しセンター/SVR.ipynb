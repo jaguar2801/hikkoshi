{
 "cells": [
  {
   "cell_type": "code",
   "execution_count": 1,
   "metadata": {},
   "outputs": [],
   "source": [
    "# ライブラリを読み込む\n",
    "import numpy as np\n",
    "import matplotlib.pyplot as plt\n",
    "import pandas as pd\n",
    "from sklearn.svm import SVR\n",
    "from sklearn.model_selection import train_test_split\n",
    "from sklearn.metrics import mean_absolute_error\n",
    "from sklearn.model_selection import GridSearchCV"
   ]
  },
  {
   "cell_type": "code",
   "execution_count": 2,
   "metadata": {},
   "outputs": [],
   "source": [
    "#前処理を施したデータを読み込む\n",
    "data=pd.read_csv('train_data.csv')\n",
    "X=data[['client', 'close', 'price_am', 'price_pm', 'Friday',\n",
    "        'Monday', 'Saturday', 'Sunday', 'Thursday', 'Tuesday', 'Wednesday']]\n",
    "y=data['y']"
   ]
  },
  {
   "cell_type": "code",
   "execution_count": 3,
   "metadata": {},
   "outputs": [],
   "source": [
    "#学習データと、テストデータに分ける\n",
    "X_train, X_test, y_train, y_test = train_test_split(X, y,random_state=123)"
   ]
  },
  {
   "cell_type": "code",
   "execution_count": 4,
   "metadata": {},
   "outputs": [
    {
     "data": {
      "text/plain": [
       "SVR(C=1, gamma='auto')"
      ]
     },
     "execution_count": 4,
     "metadata": {},
     "output_type": "execute_result"
    }
   ],
   "source": [
    "#線形カーネルを利用したSVR\n",
    "reg_linear = SVR(kernel='linear', C=1, epsilon=0.1, gamma='auto')\n",
    "\n",
    "#多項式カーネルを利用した\n",
    "reg_poly = SVR(kernel='poly', C=1, epsilon=0.1, gamma='auto')\n",
    "\n",
    "#ガウス関数を利用した\n",
    "reg_rbf = SVR(kernel='rbf', C=1, epsilon=0.1, gamma='auto')\n",
    "\n",
    "#それぞれのモデルを学習させる\n",
    "reg_linear.fit(X_train, np.ravel(y_train))\n",
    "reg_poly.fit(X_train, np.ravel(y_train))\n",
    "reg_rbf.fit(X_train, np.ravel(y_train))\n"
   ]
  },
  {
   "cell_type": "code",
   "execution_count": 5,
   "metadata": {},
   "outputs": [
    {
     "data": {
      "image/png": "[encoded data removed]",
      "text/plain": [
       "<Figure size 432x288 with 1 Axes>"
      ]
     },
     "metadata": {
      "needs_background": "light"
     },
     "output_type": "display_data"
    }
   ],
   "source": [
    "#それぞれのモデルのR^2スコアを計算\n",
    "scores = (reg_linear.score(X_test, y_test),\n",
    "reg_poly.score(X_test, y_test),\n",
    "reg_rbf.score(X_test, y_test))\n",
    "\n",
    "plt.bar((\"Linear\", \"poly\", \"RBF\"), scores)\n",
    "plt.xlabel(\"Kernel\")\n",
    "plt.ylabel(\"$R^2$ score\")\n",
    "plt.show()"
   ]
  },
  {
   "cell_type": "code",
   "execution_count": 7,
   "metadata": {},
   "outputs": [],
   "source": [
    "def MAE(model):\n",
    "    y_pred=model.predict(X_test)\n",
    "    print(mean_absolute_error(y_test, y_pred))"
   ]
  },
  {
   "cell_type": "code",
   "execution_count": 8,
   "metadata": {},
   "outputs": [
    {
     "name": "stdout",
     "output_type": "stream",
     "text": [
      "10.978505651783303\n",
      "12.74157460063716\n",
      "11.545193227606276\n",
      "None None None\n"
     ]
    }
   ],
   "source": [
    "#各モデルに対して、コンペの評価であるMAEを計算させる\n",
    "print(MAE(reg_linear),\n",
    "MAE(reg_poly),\n",
    "MAE(reg_rbf))"
   ]
  },
  {
   "cell_type": "markdown",
   "metadata": {},
   "source": [
    "## グリッドサーチを使ってSVRのパラメータチューニング"
   ]
  },
  {
   "cell_type": "code",
   "execution_count": 9,
   "metadata": {},
   "outputs": [
    {
     "data": {
      "text/plain": [
       "GridSearchCV(cv=10, estimator=SVR(), n_jobs=-1,\n",
       "             param_grid=[{'C': [1, 5, 10, 50, 100, 500, 1000],\n",
       "                          'kernel': ['linear']},\n",
       "                         {'C': [1, 5, 10, 50, 100, 500, 1000],\n",
       "                          'gamma': [0.001, 0.0001], 'kernel': ['rbf']},\n",
       "                         {'C': [1, 5, 10, 50, 100, 500, 1000],\n",
       "                          'degree': [2, 3, 4], 'gamma': [0.001, 0.0001],\n",
       "                          'kernel': ['poly']},\n",
       "                         {'C': [1, 5, 10, 50, 100, 500, 1000],\n",
       "                          'gamma': [0.001, 0.0001], 'kernel': ['sigmoid']}],\n",
       "             scoring='neg_mean_absolute_error')"
      ]
     },
     "execution_count": 9,
     "metadata": {},
     "output_type": "execute_result"
    }
   ],
   "source": [
    "tuned_parameters = [\n",
    "    {'C': [1,5, 10,50, 100,500, 1000], 'kernel': ['linear']},\n",
    "    {'C': [1,5, 10,50, 100,500, 1000], 'kernel': ['rbf'], 'gamma': [0.001, 0.0001]},\n",
    "    {'C': [1,5, 10,50, 100,500, 1000], 'kernel': ['poly'], 'degree': [2, 3, 4], 'gamma': [0.001, 0.0001]},\n",
    "    {'C': [1,5, 10,50, 100,500, 1000], 'kernel': ['sigmoid'], 'gamma': [0.001, 0.0001]}\n",
    "    ]\n",
    "#score = mean_absolute_error(y_pred, y_train)\n",
    "clf = GridSearchCV(\n",
    "    SVR(), # 識別器\n",
    "    tuned_parameters, # 最適化したいパラメータセット \n",
    "    cv=10, # 交差検定の回数\n",
    "    n_jobs=-1,\n",
    "   scoring='neg_mean_absolute_error'\n",
    ") # モデルの評価関数の指定\n",
    "clf.fit(X_train, y_train) "
   ]
  },
  {
   "cell_type": "code",
   "execution_count": 10,
   "metadata": {},
   "outputs": [],
   "source": [
    "def best_model(best_params):\n",
    "    if best_params['kernel']=='rbf':\n",
    "        model = SVR(kernel=best_params['kernel'], C=best_params['C'], epsilon=0.1, gamma=best_params['gamma'])\n",
    "    elif best_params['kernel']=='poly':\n",
    "        model=SVR(kernel=best_params['kernel'], C=best_params['C'], degree=best_param['degree'],\n",
    "                  epsilon=0.1, gamma=best_params['gamma'])\n",
    "    elif best_params['kernel']=='linear':\n",
    "        model=SVR(kernel=best_model['kernel'],C=best_params['C'],epsilon=0.1)\n",
    "    elif best_params['kernel']=='sigmoid':\n",
    "        model=SVR(kernel=best_params['kernel'],C=betst_params['C'],gamma=best_params['gammma'],epsilon=0.1)\n",
    "    return model"
   ]
  },
  {
   "cell_type": "code",
   "execution_count": 13,
   "metadata": {},
   "outputs": [
    {
     "name": "stdout",
     "output_type": "stream",
     "text": [
      "SVR(C=1000, gamma=0.001)\n",
      "10.922771453707899\n",
      "None\n"
     ]
    }
   ],
   "source": [
    "# 最適パラメータで学習させてモデルの保存\n",
    "fit_model=best_model(clf.best_params_).fit(X_train,y_train)\n",
    "#　上で学習させたモデルの評価\n",
    "print(best_model(clf.best_params_))\n",
    "print(MAE(fit_model))\n"
   ]
  },
  {
   "cell_type": "markdown",
   "metadata": {},
   "source": [
    "## 提出用のcsvを作成する"
   ]
  },
  {
   "cell_type": "code",
   "execution_count": null,
   "metadata": {},
   "outputs": [],
   "source": [
    "#提出用のデータを読み込み\n",
    "test_data=pd.read_csv('test_data.csv')"
   ]
  },
  {
   "cell_type": "code",
   "execution_count": null,
   "metadata": {},
   "outputs": [],
   "source": [
    "test_data"
   ]
  },
  {
   "cell_type": "code",
   "execution_count": null,
   "metadata": {},
   "outputs": [],
   "source": [
    "def make_csv(model,out_csv_path):\n",
    "    pred=model.predict(test_data.drop('datetime',axis=1))\n",
    "    date=test_data['datetime']\n",
    "    data_list=[]\n",
    "    for i in range(len(date)):\n",
    "        data_list.append([date[i],pred[i]])\n",
    "    a=pd.DataFrame(data_list)\n",
    "    print(a)\n",
    "    a.to_csv('提出csv/'+out_csv_path,index=False)"
   ]
  },
  {
   "cell_type": "code",
   "execution_count": null,
   "metadata": {},
   "outputs": [],
   "source": [
    "make_csv(reg_linear,'reg_linear.csv')\n",
    "make_csv(reg_poly,'reg_poly.csv')\n",
    "make_csv(reg_rbf,'reg_rbf.csv')"
   ]
  },
  {
   "cell_type": "code",
   "execution_count": null,
   "metadata": {},
   "outputs": [],
   "source": []
  },
  {
   "cell_type": "code",
   "execution_count": null,
   "metadata": {},
   "outputs": [],
   "source": []
  }
 ],
 "metadata": {
  "kernelspec": {
   "display_name": "Python 3",
   "language": "python",
   "name": "python3"
  },
  "language_info": {
   "codemirror_mode": {
    "name": "ipython",
    "version": 3
   },
   "file_extension": ".py",
   "mimetype": "text/x-python",
   "name": "python",
   "nbconvert_exporter": "python",
   "pygments_lexer": "ipython3",
   "version": "3.8.5"
  }
 },
 "nbformat": 4,
 "nbformat_minor": 4
}
